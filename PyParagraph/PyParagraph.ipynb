{
 "cells": [
  {
   "cell_type": "code",
   "execution_count": 3,
   "metadata": {},
   "outputs": [
    {
     "name": "stdout",
     "output_type": "stream",
     "text": [
      "Enter file to evaluate(1 or 2)2\n",
      "Paragraph Analysis\n",
      "----------------------------------\n",
      "Approximate Word Count: 276\n",
      "Approximate Sentence Count: 11\n",
      "Average Letter Count: 5.155797101449275\n",
      "Average Sentence Length: 25.09090909090909\n"
     ]
    },
    {
     "data": {
      "text/plain": [
       "42"
      ]
     },
     "execution_count": 3,
     "metadata": {},
     "output_type": "execute_result"
    }
   ],
   "source": [
    "# import libraries\n",
    "import os\n",
    "\n",
    "# declaring & initializing variables\n",
    "letter_count = 0\n",
    "\n",
    "file_in = int()\n",
    "file_out = int()\n",
    "for file_in in range(1, 2):\n",
    "    data_2 = input('Enter file to evaluate(1 or 2)'.format(file_in))\n",
    "    file = (\"paragraph_\" + format(data_2) + '.txt')\n",
    "    file_initial = os.path.join('raw_data', file)\n",
    "# opening file\n",
    "with open(file_initial, 'r') as txtfile:\n",
    "    paragraph = txtfile.read()\n",
    "\n",
    "# finding word count\n",
    "word_count = paragraph.count(\" \") + 1 # +1 to account for the last word\n",
    "\n",
    "# finding sentence count\n",
    "sentence_count = paragraph.count(\".\") + paragraph.count(\"!\") + paragraph.count(\"?\")\n",
    "\n",
    "# finding average letter count\n",
    "for char in paragraph:\n",
    "    if char.isalpha():\n",
    "        letter_count += 1 # counting how many characters are letters\n",
    "avg_letter_count = letter_count/word_count\n",
    "\n",
    "# finding average sentence length\n",
    "avg_sentence = word_count/sentence_count\n",
    "\n",
    "# printing results to terminal\n",
    "print(\"Paragraph Analysis\")\n",
    "print(\"----------------------------------\")\n",
    "print(\"Approximate Word Count:\", word_count)\n",
    "print(\"Approximate Sentence Count:\", sentence_count)\n",
    "print(\"Average Letter Count:\", avg_letter_count)\n",
    "print(\"Average Sentence Length:\", avg_sentence)\n",
    "\n",
    "file_final = os.path.join('Output', file)\n",
    "\n",
    "# creating the new text file\n",
    "para_analysis = open(file_final, 'w')\n",
    "\n",
    "# writing the text file\n",
    "para_analysis.write(\"Paragraph Analysis \\n\")\n",
    "para_analysis.write(\"---------------------------------- \\n\")\n",
    "para_analysis.write(\"Approximate Word Count: \" + str(word_count) + \"\\n\")\n",
    "para_analysis.write(\"Approximate Sentence Count: \" + str(sentence_count) + \"\\n\")\n",
    "para_analysis.write(\"Average Letter Count: \" + str(avg_letter_count) + \"\\n\")\n",
    "para_analysis.write(\"Average Sentence Length: \" + str(avg_sentence))"
   ]
  },
  {
   "cell_type": "code",
   "execution_count": null,
   "metadata": {},
   "outputs": [],
   "source": []
  }
 ],
 "metadata": {
  "kernelspec": {
   "display_name": "Python 3",
   "language": "python",
   "name": "python3"
  },
  "language_info": {
   "codemirror_mode": {
    "name": "ipython",
    "version": 3
   },
   "file_extension": ".py",
   "mimetype": "text/x-python",
   "name": "python",
   "nbconvert_exporter": "python",
   "pygments_lexer": "ipython3",
   "version": "3.6.4"
  }
 },
 "nbformat": 4,
 "nbformat_minor": 2
}
