{
 "cells": [
  {
   "cell_type": "code",
   "execution_count": 53,
   "metadata": {},
   "outputs": [
    {
     "name": "stdout",
     "output_type": "stream",
     "text": [
      "Enter csv file to evaluate(1 or 2)2\n"
     ]
    }
   ],
   "source": [
    "import os\n",
    "import csv\n",
    "\n",
    "from us_state_abbrev import *\n",
    "\n",
    "# Empty lists\n",
    "emp_id = []\n",
    "name = []\n",
    "dob = []\n",
    "ssn = []\n",
    "state = []\n",
    "first_name = []\n",
    "last_name = []\n",
    "\n",
    "file_in = int()\n",
    "file_out = int()\n",
    "for file_in in range(1, 2):\n",
    "    data_2 = input('Enter csv file to evaluate(1 or 2)'.format(file_in))\n",
    "    file = (\"employee_data\" + format(data_2) + '.csv')\n",
    "    file_initial = os.path.join('raw_data', file)\n",
    "\n",
    "\n",
    "with open(file_initial, newline=\"\") as csvfile:\n",
    "    csv_reader = csv.reader(csvfile, delimiter=\",\")\n",
    "    newcsvdict = {\"first_name\": [], \"last_name\": []}\n",
    "    next(csv_reader)\n",
    "    for row in csv_reader:\n",
    "        emp_id.append(row[0])\n",
    "        name = row[1].split(\" \") # splitting name by space\n",
    "        first_name.append(name[0]) # appending first name\n",
    "        last_name.append(name[1]) # appending last name\n",
    "        dob.append(row[2].split('-')[1] + '/' + row[2].split('-')[2] + '/' + row[2].split('-')[0])\n",
    "        ssn.append('***-**-' + row[3].split('-')[2])\n",
    "        state.append(us_state_abbrev[row[4]])\n",
    "\n",
    "Processed_data = zip(emp_id, first_name, last_name, dob, ssn, state)\n",
    "\n",
    "file_final = os.path.join('Output', file)\n",
    "\n",
    "with open(file_final, 'w') as csvwrite:\n",
    "    newfile = csv.writer(csvwrite, delimiter = \",\")\n",
    "    newfile.writerow(['Emp ID', 'First Name', 'Last Name', 'DOB', 'SSN', 'State'])\n",
    "    for employee in Processed_data:\n",
    "        newfile.writerow(employee)\n"
   ]
  },
  {
   "cell_type": "code",
   "execution_count": null,
   "metadata": {},
   "outputs": [],
   "source": []
  }
 ],
 "metadata": {
  "kernelspec": {
   "display_name": "Python 3",
   "language": "python",
   "name": "python3"
  },
  "language_info": {
   "codemirror_mode": {
    "name": "ipython",
    "version": 3
   },
   "file_extension": ".py",
   "mimetype": "text/x-python",
   "name": "python",
   "nbconvert_exporter": "python",
   "pygments_lexer": "ipython3",
   "version": "3.6.4"
  }
 },
 "nbformat": 4,
 "nbformat_minor": 2
}
